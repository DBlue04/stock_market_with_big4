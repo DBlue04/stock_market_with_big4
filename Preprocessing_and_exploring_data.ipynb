{
 "cells": [
  {
   "cell_type": "code",
   "execution_count": 94,
   "metadata": {},
   "outputs": [],
   "source": [
    "import yfinance as yf\n",
    "from datetime import datetime\n",
    "\n",
    "%matplotlib inline"
   ]
  },
  {
   "cell_type": "markdown",
   "metadata": {},
   "source": [
    "Kiểm tra mức tăng cổ phiếu trong vòng 10 năm của Tesla."
   ]
  },
  {
   "cell_type": "code",
   "execution_count": 95,
   "metadata": {},
   "outputs": [
    {
     "name": "stderr",
     "output_type": "stream",
     "text": [
      "[*********************100%%**********************]  1 of 1 completed\n"
     ]
    }
   ],
   "source": [
    "end = datetime.now()\n",
    "start = datetime(end.year - 10, end.month, end.day)\n",
    "\n",
    "TSLA = yf.download('TSLA', start, end)\n",
    "\n",
    "TSLA['Company'] = 'Tesla'\n",
    "df = TSLA.copy()\n",
    "df.sample(10)\n",
    "df.to_pickle('df.pkl')\n"
   ]
  },
  {
   "cell_type": "code",
   "execution_count": 96,
   "metadata": {},
   "outputs": [
    {
     "data": {
      "text/html": [
       "<div>\n",
       "<style scoped>\n",
       "    .dataframe tbody tr th:only-of-type {\n",
       "        vertical-align: middle;\n",
       "    }\n",
       "\n",
       "    .dataframe tbody tr th {\n",
       "        vertical-align: top;\n",
       "    }\n",
       "\n",
       "    .dataframe thead th {\n",
       "        text-align: right;\n",
       "    }\n",
       "</style>\n",
       "<table border=\"1\" class=\"dataframe\">\n",
       "  <thead>\n",
       "    <tr style=\"text-align: right;\">\n",
       "      <th></th>\n",
       "      <th>Open</th>\n",
       "      <th>High</th>\n",
       "      <th>Low</th>\n",
       "      <th>Close</th>\n",
       "      <th>Adj Close</th>\n",
       "      <th>Volume</th>\n",
       "    </tr>\n",
       "  </thead>\n",
       "  <tbody>\n",
       "    <tr>\n",
       "      <th>count</th>\n",
       "      <td>2516.000000</td>\n",
       "      <td>2516.000000</td>\n",
       "      <td>2516.000000</td>\n",
       "      <td>2516.000000</td>\n",
       "      <td>2516.000000</td>\n",
       "      <td>2.516000e+03</td>\n",
       "    </tr>\n",
       "    <tr>\n",
       "      <th>mean</th>\n",
       "      <td>94.738695</td>\n",
       "      <td>96.818477</td>\n",
       "      <td>92.494570</td>\n",
       "      <td>94.709323</td>\n",
       "      <td>94.709323</td>\n",
       "      <td>1.132344e+08</td>\n",
       "    </tr>\n",
       "    <tr>\n",
       "      <th>std</th>\n",
       "      <td>108.774611</td>\n",
       "      <td>111.195230</td>\n",
       "      <td>106.094467</td>\n",
       "      <td>108.676365</td>\n",
       "      <td>108.676365</td>\n",
       "      <td>7.546374e+07</td>\n",
       "    </tr>\n",
       "    <tr>\n",
       "      <th>min</th>\n",
       "      <td>9.366667</td>\n",
       "      <td>9.800000</td>\n",
       "      <td>9.111333</td>\n",
       "      <td>9.289333</td>\n",
       "      <td>9.289333</td>\n",
       "      <td>1.062000e+07</td>\n",
       "    </tr>\n",
       "    <tr>\n",
       "      <th>25%</th>\n",
       "      <td>15.807500</td>\n",
       "      <td>16.130834</td>\n",
       "      <td>15.551000</td>\n",
       "      <td>15.873167</td>\n",
       "      <td>15.873167</td>\n",
       "      <td>6.643185e+07</td>\n",
       "    </tr>\n",
       "    <tr>\n",
       "      <th>50%</th>\n",
       "      <td>21.907333</td>\n",
       "      <td>22.302667</td>\n",
       "      <td>21.547334</td>\n",
       "      <td>21.954000</td>\n",
       "      <td>21.954000</td>\n",
       "      <td>9.323365e+07</td>\n",
       "    </tr>\n",
       "    <tr>\n",
       "      <th>75%</th>\n",
       "      <td>200.726662</td>\n",
       "      <td>206.042503</td>\n",
       "      <td>196.745834</td>\n",
       "      <td>201.578339</td>\n",
       "      <td>201.578339</td>\n",
       "      <td>1.323710e+08</td>\n",
       "    </tr>\n",
       "    <tr>\n",
       "      <th>max</th>\n",
       "      <td>411.470001</td>\n",
       "      <td>414.496674</td>\n",
       "      <td>405.666656</td>\n",
       "      <td>409.970001</td>\n",
       "      <td>409.970001</td>\n",
       "      <td>9.140820e+08</td>\n",
       "    </tr>\n",
       "  </tbody>\n",
       "</table>\n",
       "</div>"
      ],
      "text/plain": [
       "              Open         High          Low        Close    Adj Close  \\\n",
       "count  2516.000000  2516.000000  2516.000000  2516.000000  2516.000000   \n",
       "mean     94.738695    96.818477    92.494570    94.709323    94.709323   \n",
       "std     108.774611   111.195230   106.094467   108.676365   108.676365   \n",
       "min       9.366667     9.800000     9.111333     9.289333     9.289333   \n",
       "25%      15.807500    16.130834    15.551000    15.873167    15.873167   \n",
       "50%      21.907333    22.302667    21.547334    21.954000    21.954000   \n",
       "75%     200.726662   206.042503   196.745834   201.578339   201.578339   \n",
       "max     411.470001   414.496674   405.666656   409.970001   409.970001   \n",
       "\n",
       "             Volume  \n",
       "count  2.516000e+03  \n",
       "mean   1.132344e+08  \n",
       "std    7.546374e+07  \n",
       "min    1.062000e+07  \n",
       "25%    6.643185e+07  \n",
       "50%    9.323365e+07  \n",
       "75%    1.323710e+08  \n",
       "max    9.140820e+08  "
      ]
     },
     "execution_count": 96,
     "metadata": {},
     "output_type": "execute_result"
    }
   ],
   "source": [
    "df.describe()"
   ]
  },
  {
   "cell_type": "code",
   "execution_count": 97,
   "metadata": {},
   "outputs": [
    {
     "name": "stdout",
     "output_type": "stream",
     "text": [
      "<class 'pandas.core.frame.DataFrame'>\n",
      "DatetimeIndex: 2516 entries, 2014-01-13 to 2024-01-10\n",
      "Data columns (total 7 columns):\n",
      " #   Column     Non-Null Count  Dtype  \n",
      "---  ------     --------------  -----  \n",
      " 0   Open       2516 non-null   float64\n",
      " 1   High       2516 non-null   float64\n",
      " 2   Low        2516 non-null   float64\n",
      " 3   Close      2516 non-null   float64\n",
      " 4   Adj Close  2516 non-null   float64\n",
      " 5   Volume     2516 non-null   int64  \n",
      " 6   Company    2516 non-null   object \n",
      "dtypes: float64(5), int64(1), object(1)\n",
      "memory usage: 157.2+ KB\n"
     ]
    }
   ],
   "source": [
    "df.info()"
   ]
  },
  {
   "cell_type": "code",
   "execution_count": null,
   "metadata": {},
   "outputs": [],
   "source": []
  },
  {
   "cell_type": "code",
   "execution_count": null,
   "metadata": {},
   "outputs": [],
   "source": []
  },
  {
   "cell_type": "markdown",
   "metadata": {},
   "source": [
    "Predict stock in next time of Tesla"
   ]
  },
  {
   "cell_type": "markdown",
   "metadata": {},
   "source": []
  }
 ],
 "metadata": {
  "kernelspec": {
   "display_name": "intro2ds",
   "language": "python",
   "name": "python3"
  },
  "language_info": {
   "codemirror_mode": {
    "name": "ipython",
    "version": 3
   },
   "file_extension": ".py",
   "mimetype": "text/x-python",
   "name": "python",
   "nbconvert_exporter": "python",
   "pygments_lexer": "ipython3",
   "version": "3.9.18"
  }
 },
 "nbformat": 4,
 "nbformat_minor": 2
}
